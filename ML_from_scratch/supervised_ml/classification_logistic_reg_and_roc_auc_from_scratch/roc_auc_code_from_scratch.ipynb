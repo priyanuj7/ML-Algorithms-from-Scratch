{
 "cells": [
  {
   "cell_type": "code",
   "execution_count": 57,
   "metadata": {},
   "outputs": [],
   "source": [
    "import random\n",
    "import numpy as np\n",
    "import pandas as pd\n",
    "import matplotlib.pyplot as plt\n",
    "%matplotlib inline"
   ]
  },
  {
   "cell_type": "code",
   "execution_count": 58,
   "metadata": {},
   "outputs": [
    {
     "name": "stdout",
     "output_type": "stream",
     "text": [
      "[1, 0, 0, 1, 0, 0, 0, 1, 0, 0, 0, 0, 0, 1, 1, 1, 1, 1, 0, 1, 1, 0, 1, 0, 0, 0, 1, 1, 0, 0, 1, 1, 1, 1, 0, 1, 0, 0, 1, 1, 0, 1, 0, 0, 1, 0, 1, 0, 0, 0, 1, 1, 1, 1, 0, 0, 0, 1, 0, 1, 1, 1, 1, 1, 1, 0, 0, 1, 0, 0, 0, 0, 1, 1, 1, 1, 0, 0, 0, 1, 0, 0, 0, 1, 1, 1, 0, 1, 1, 0, 1, 0, 1, 0, 1, 1, 0, 1, 0, 0, 0, 0, 1, 1, 0, 0, 1, 1, 0, 0, 0, 0, 1, 0, 1, 0, 1, 1, 0, 0, 0, 0, 0, 0, 1, 1, 1, 1, 1, 1, 1, 1, 1, 1, 0, 0, 1, 1, 1, 1, 0, 1, 0, 1, 0, 1, 0, 1, 1, 1, 1, 0, 0, 1, 0, 0, 0, 1, 0, 0, 1, 0, 1, 0, 0, 1, 0, 1, 0, 1, 1, 0, 0, 1, 0, 0, 1, 1, 1, 1, 0, 1, 1, 1, 1, 0, 0, 1, 0, 0, 0, 1, 0, 1, 1, 0, 0, 0, 0, 0]\n",
      "200\n"
     ]
    }
   ],
   "source": [
    "actual_list = [0]*100 + [1]*100\n",
    "random.shuffle(actual_list)\n",
    "print(actual_list)\n",
    "print(len(actual_list))"
   ]
  },
  {
   "cell_type": "code",
   "execution_count": 59,
   "metadata": {},
   "outputs": [
    {
     "name": "stdout",
     "output_type": "stream",
     "text": [
      "[1.0, 0.98, 0.94, 0.77, 0.92, 0.53, 0.16, 0.49, 0.29, 0.11, 0.19, 0.9, 0.74, 0.94, 0.83, 0.86, 0.94, 0.84, 0.34, 0.15, 0.24, 0.94, 0.24, 0.1, 0.69, 0.17, 0.27, 0.68, 0.36, 0.54, 0.15, 0.96, 0.38, 0.44, 0.5, 0.79, 0.96, 0.08, 0.85, 0.03, 0.53, 0.02, 0.67, 0.51, 0.76, 0.04, 0.81, 0.06, 0.19, 0.81, 0.11, 0.02, 0.06, 0.73, 0.12, 0.73, 0.83, 0.2, 0.58, 0.98, 1.0, 0.37, 0.27, 0.42, 0.8, 0.56, 0.08, 0.84, 0.62, 0.81, 0.76, 0.17, 0.99, 0.13, 0.15, 0.41, 0.32, 0.0, 0.25, 0.43, 0.93, 0.28, 0.26, 0.89, 0.9, 0.95, 0.69, 0.46, 0.94, 0.77, 0.9, 0.52, 0.87, 0.79, 0.22, 0.0, 0.25, 0.49, 0.33, 0.17, 0.18, 0.32, 0.98, 0.98, 0.98, 0.02, 0.22, 0.51, 0.45, 0.83, 0.3, 0.7, 0.24, 0.22, 0.97, 0.83, 0.05, 0.69, 0.34, 0.23, 0.4, 0.49, 0.65, 0.91, 0.74, 0.55, 0.57, 0.21, 0.53, 0.22, 0.29, 0.67, 0.98, 0.9, 0.09, 0.77, 0.39, 0.07, 0.43, 0.11, 0.97, 0.53, 0.4, 0.08, 0.79, 0.4, 0.59, 0.01, 0.55, 0.6, 0.2, 0.25, 0.74, 0.37, 0.17, 0.21, 0.01, 0.46, 0.91, 0.89, 0.22, 0.34, 0.57, 0.55, 0.31, 0.18, 0.93, 0.15, 0.02, 0.9, 0.3, 0.88, 0.12, 0.09, 0.02, 0.65, 0.77, 0.68, 0.86, 0.25, 0.84, 0.34, 0.99, 0.77, 0.04, 0.51, 0.7, 0.98, 0.53, 0.82, 0.9, 0.67, 0.3, 0.14, 0.97, 0.95, 0.54, 0.46, 0.72, 0.37]\n",
      "200\n"
     ]
    }
   ],
   "source": [
    "pred_list = []\n",
    "for i in range(0,200):\n",
    "    pred_list.append(np.round(random.uniform(0,1),2))\n",
    "    \n",
    "print(pred_list)\n",
    "print(len(pred_list))"
   ]
  },
  {
   "cell_type": "code",
   "execution_count": 60,
   "metadata": {},
   "outputs": [
    {
     "data": {
      "text/html": [
       "<div>\n",
       "<style scoped>\n",
       "    .dataframe tbody tr th:only-of-type {\n",
       "        vertical-align: middle;\n",
       "    }\n",
       "\n",
       "    .dataframe tbody tr th {\n",
       "        vertical-align: top;\n",
       "    }\n",
       "\n",
       "    .dataframe thead th {\n",
       "        text-align: right;\n",
       "    }\n",
       "</style>\n",
       "<table border=\"1\" class=\"dataframe\">\n",
       "  <thead>\n",
       "    <tr style=\"text-align: right;\">\n",
       "      <th></th>\n",
       "      <th>y_actual</th>\n",
       "      <th>y_pred</th>\n",
       "    </tr>\n",
       "  </thead>\n",
       "  <tbody>\n",
       "    <tr>\n",
       "      <th>0</th>\n",
       "      <td>1</td>\n",
       "      <td>1.00</td>\n",
       "    </tr>\n",
       "    <tr>\n",
       "      <th>1</th>\n",
       "      <td>0</td>\n",
       "      <td>0.98</td>\n",
       "    </tr>\n",
       "    <tr>\n",
       "      <th>2</th>\n",
       "      <td>0</td>\n",
       "      <td>0.94</td>\n",
       "    </tr>\n",
       "    <tr>\n",
       "      <th>3</th>\n",
       "      <td>1</td>\n",
       "      <td>0.77</td>\n",
       "    </tr>\n",
       "    <tr>\n",
       "      <th>4</th>\n",
       "      <td>0</td>\n",
       "      <td>0.92</td>\n",
       "    </tr>\n",
       "  </tbody>\n",
       "</table>\n",
       "</div>"
      ],
      "text/plain": [
       "   y_actual  y_pred\n",
       "0         1    1.00\n",
       "1         0    0.98\n",
       "2         0    0.94\n",
       "3         1    0.77\n",
       "4         0    0.92"
      ]
     },
     "execution_count": 60,
     "metadata": {},
     "output_type": "execute_result"
    }
   ],
   "source": [
    "df1 = pd.DataFrame(actual_list)\n",
    "df2 = pd.DataFrame(pred_list)\n",
    "df = pd.concat([df1, df2], axis = 1)\n",
    "df.columns = ['y_actual', 'y_pred']\n",
    "df.head()"
   ]
  },
  {
   "cell_type": "markdown",
   "metadata": {},
   "source": [
    "### Coding for ROC_AUC curve"
   ]
  },
  {
   "cell_type": "code",
   "execution_count": 61,
   "metadata": {},
   "outputs": [
    {
     "name": "stdout",
     "output_type": "stream",
     "text": [
      "[0.0, 0.05, 0.1, 0.15, 0.2, 0.25, 0.3, 0.35, 0.4, 0.45, 0.5, 0.55, 0.6, 0.65, 0.7, 0.75, 0.8, 0.85, 0.9, 0.95, 1.0]\n"
     ]
    }
   ],
   "source": [
    "thresholds = list(np.array(list(range(0,105,5)))/100)\n",
    "print(thresholds)"
   ]
  },
  {
   "cell_type": "code",
   "execution_count": 62,
   "metadata": {},
   "outputs": [],
   "source": [
    "roc_point = []\n",
    "\n",
    "for threshold in thresholds:\n",
    "    tp = 0; fp = 0; fn = 0; tn = 0\n",
    "    \n",
    "    for index, instance in df.iterrows():\n",
    "        actual = instance['y_actual']\n",
    "        prediction = instance['y_pred']\n",
    "        \n",
    "        if prediction >= threshold:\n",
    "            prediction_class = 1\n",
    "        else:\n",
    "            prediction_class = 0\n",
    "            \n",
    "        if prediction_class == 1 and actual == 1:\n",
    "            tp = tp + 1\n",
    "        elif prediction_class == 1 and actual == 0:\n",
    "            fp = fp + 1\n",
    "        elif prediction_class == 0 and actual == 0:\n",
    "            tn = tn + 1\n",
    "        elif prediction_class == 0 and actual == 1:\n",
    "            fn = fn + 1\n",
    "            \n",
    "    tpr = tp / (tp + fn)\n",
    "    fpr = fp/ (fp + tn)\n",
    "    \n",
    "    roc_point.append([tpr, fpr])\n",
    "        "
   ]
  },
  {
   "cell_type": "code",
   "execution_count": 63,
   "metadata": {},
   "outputs": [
    {
     "data": {
      "text/plain": [
       "[[1.0, 1.0],\n",
       " [0.94, 0.94],\n",
       " [0.89, 0.9],\n",
       " [0.85, 0.86],\n",
       " [0.8, 0.78],\n",
       " [0.7, 0.75],\n",
       " [0.66, 0.69],\n",
       " [0.64, 0.6],\n",
       " [0.6, 0.58],\n",
       " [0.54, 0.56],\n",
       " [0.5, 0.53],\n",
       " [0.47, 0.44],\n",
       " [0.43, 0.4],\n",
       " [0.42, 0.39],\n",
       " [0.37, 0.34],\n",
       " [0.35, 0.28],\n",
       " [0.3, 0.23],\n",
       " [0.25, 0.16],\n",
       " [0.2, 0.14],\n",
       " [0.13, 0.05],\n",
       " [0.02, 0.0]]"
      ]
     },
     "execution_count": 63,
     "metadata": {},
     "output_type": "execute_result"
    }
   ],
   "source": [
    "roc_point"
   ]
  },
  {
   "cell_type": "code",
   "execution_count": 64,
   "metadata": {},
   "outputs": [
    {
     "data": {
      "text/html": [
       "<div>\n",
       "<style scoped>\n",
       "    .dataframe tbody tr th:only-of-type {\n",
       "        vertical-align: middle;\n",
       "    }\n",
       "\n",
       "    .dataframe tbody tr th {\n",
       "        vertical-align: top;\n",
       "    }\n",
       "\n",
       "    .dataframe thead th {\n",
       "        text-align: right;\n",
       "    }\n",
       "</style>\n",
       "<table border=\"1\" class=\"dataframe\">\n",
       "  <thead>\n",
       "    <tr style=\"text-align: right;\">\n",
       "      <th></th>\n",
       "      <th>tpr</th>\n",
       "      <th>fpr</th>\n",
       "      <th>thresholds</th>\n",
       "    </tr>\n",
       "  </thead>\n",
       "  <tbody>\n",
       "    <tr>\n",
       "      <th>0</th>\n",
       "      <td>1.00</td>\n",
       "      <td>1.00</td>\n",
       "      <td>0.00</td>\n",
       "    </tr>\n",
       "    <tr>\n",
       "      <th>1</th>\n",
       "      <td>0.94</td>\n",
       "      <td>0.94</td>\n",
       "      <td>0.05</td>\n",
       "    </tr>\n",
       "    <tr>\n",
       "      <th>2</th>\n",
       "      <td>0.89</td>\n",
       "      <td>0.90</td>\n",
       "      <td>0.10</td>\n",
       "    </tr>\n",
       "    <tr>\n",
       "      <th>3</th>\n",
       "      <td>0.85</td>\n",
       "      <td>0.86</td>\n",
       "      <td>0.15</td>\n",
       "    </tr>\n",
       "    <tr>\n",
       "      <th>4</th>\n",
       "      <td>0.80</td>\n",
       "      <td>0.78</td>\n",
       "      <td>0.20</td>\n",
       "    </tr>\n",
       "  </tbody>\n",
       "</table>\n",
       "</div>"
      ],
      "text/plain": [
       "    tpr   fpr  thresholds\n",
       "0  1.00  1.00        0.00\n",
       "1  0.94  0.94        0.05\n",
       "2  0.89  0.90        0.10\n",
       "3  0.85  0.86        0.15\n",
       "4  0.80  0.78        0.20"
      ]
     },
     "execution_count": 64,
     "metadata": {},
     "output_type": "execute_result"
    }
   ],
   "source": [
    "df_final = pd.DataFrame(roc_point, columns = ['tpr', 'fpr'])\n",
    "df_final['thresholds'] = thresholds\n",
    "df_final.head()"
   ]
  },
  {
   "cell_type": "code",
   "execution_count": 65,
   "metadata": {},
   "outputs": [
    {
     "data": {
      "text/plain": [
       "Text(0, 0.5, 'true_positive_rate')"
      ]
     },
     "execution_count": 65,
     "metadata": {},
     "output_type": "execute_result"
    },
    {
     "data": {
      "image/png": "[encoded data removed]",
      "text/plain": [
       "<Figure size 432x288 with 1 Axes>"
      ]
     },
     "metadata": {
      "needs_background": "light"
     },
     "output_type": "display_data"
    }
   ],
   "source": [
    "plt.scatter(df_final.fpr, df_final.tpr)\n",
    "plt.plot([0,1])\n",
    "plt.xlabel('false_positive_rate')\n",
    "plt.ylabel('true_positive_rate')"
   ]
  },
  {
   "cell_type": "code",
   "execution_count": 66,
   "metadata": {},
   "outputs": [
    {
     "data": {
      "text/plain": [
       "0.48"
      ]
     },
     "execution_count": 66,
     "metadata": {},
     "output_type": "execute_result"
    }
   ],
   "source": [
    "##Auc score\n",
    "round(abs(np.trapz(df_final.fpr, df_final.tpr)),2)"
   ]
  }
 ],
 "metadata": {
  "kernelspec": {
   "display_name": "Python 3",
   "language": "python",
   "name": "python3"
  },
  "language_info": {
   "codemirror_mode": {
    "name": "ipython",
    "version": 3
   },
   "file_extension": ".py",
   "mimetype": "text/x-python",
   "name": "python",
   "nbconvert_exporter": "python",
   "pygments_lexer": "ipython3",
   "version": "3.7.4"
  }
 },
 "nbformat": 4,
 "nbformat_minor": 2
}
