{
 "cells": [
  {
   "cell_type": "code",
   "execution_count": 1,
   "metadata": {},
   "outputs": [],
   "source": [
    "#importing the required libraries\n",
    "from sklearn.datasets import load_diabetes\n",
    "from sklearn.metrics import r2_score\n",
    "import numpy as np\n",
    "import pandas as pd"
   ]
  },
  {
   "cell_type": "code",
   "execution_count": 2,
   "metadata": {},
   "outputs": [
    {
     "data": {
      "text/plain": [
       "((442, 10), (442,))"
      ]
     },
     "execution_count": 2,
     "metadata": {},
     "output_type": "execute_result"
    }
   ],
   "source": [
    "X, y = load_diabetes(return_X_y = True)\n",
    "X.shape, y.shape"
   ]
  },
  {
   "cell_type": "code",
   "execution_count": 3,
   "metadata": {},
   "outputs": [
    {
     "data": {
      "text/plain": [
       "((353, 10), (89, 10), (353,), (89,))"
      ]
     },
     "execution_count": 3,
     "metadata": {},
     "output_type": "execute_result"
    }
   ],
   "source": [
    "#creating the test and the train set\n",
    "from sklearn.model_selection import train_test_split\n",
    "X_train, X_test, y_train, y_test = train_test_split(X, y, test_size = 0.2, random_state=4)\n",
    "X_train.shape, X_test.shape, y_train.shape, y_test.shape"
   ]
  },
  {
   "cell_type": "markdown",
   "metadata": {},
   "source": [
    "#### Since we want to compare gradient descent methodology, therefore we use sgdregressor instead of Ridge from sklearn.linear_model , few solvers in Ridge also uses gradient descent"
   ]
  },
  {
   "cell_type": "code",
   "execution_count": 4,
   "metadata": {},
   "outputs": [],
   "source": [
    "from sklearn.linear_model import SGDRegressor"
   ]
  },
  {
   "cell_type": "code",
   "execution_count": 6,
   "metadata": {},
   "outputs": [
    {
     "name": "stdout",
     "output_type": "stream",
     "text": [
      "0.46167343212675094\n",
      "[154.97844376]\n",
      "[  48.89726393 -161.957453    371.99439592  268.85337444   -8.46350637\n",
      "  -60.98786526 -169.11805563  139.37661395  335.66116561   94.92910271]\n"
     ]
    }
   ],
   "source": [
    "reg = SGDRegressor(penalty = 'l2', max_iter = 500, eta0 = 0.1, learning_rate = 'constant', alpha = 0.001)\n",
    "reg.fit(X_train, y_train)\n",
    "y_pred = reg.predict(X_test)\n",
    "print(r2_score(y_test, y_pred))\n",
    "print(reg.intercept_)\n",
    "print(reg.coef_)"
   ]
  },
  {
   "cell_type": "markdown",
   "metadata": {},
   "source": [
    "### using solver = sparse_cg for gradient descent methodology in rigde from sklearn.linear_model"
   ]
  },
  {
   "cell_type": "code",
   "execution_count": 7,
   "metadata": {},
   "outputs": [],
   "source": [
    "from sklearn.linear_model import Ridge"
   ]
  },
  {
   "cell_type": "code",
   "execution_count": 9,
   "metadata": {},
   "outputs": [
    {
     "name": "stdout",
     "output_type": "stream",
     "text": [
      "0.4693262885389844\n",
      "[154.97844376]\n",
      "[  48.89726393 -161.957453    371.99439592  268.85337444   -8.46350637\n",
      "  -60.98786526 -169.11805563  139.37661395  335.66116561   94.92910271]\n"
     ]
    }
   ],
   "source": [
    "regressor = Ridge(alpha = 0.1, solver = 'sparse_cg')\n",
    "regressor.fit(X_train, y_train)\n",
    "y_pred = regressor.predict(X_test)\n",
    "print(r2_score(y_test, y_pred))\n",
    "print(reg.intercept_)\n",
    "print(reg.coef_)"
   ]
  },
  {
   "cell_type": "markdown",
   "metadata": {},
   "source": [
    "### ridge regressor using gradient descent from scratch"
   ]
  },
  {
   "cell_type": "code",
   "execution_count": 16,
   "metadata": {},
   "outputs": [],
   "source": [
    "class RigdeGD():\n",
    "    def __init__(self, epochs, learning_rate, alpha):\n",
    "        self.epochs = epochs\n",
    "        self.learning_rate = learning_rate\n",
    "        self.alpha = alpha\n",
    "        self.intercept_ = None\n",
    "        self.coef_ = None\n",
    "        \n",
    "    def fit(self, X_train, y_train):\n",
    "        self.coef_ = np.ones(X_train.shape[1])\n",
    "        self.intercept_ = 0\n",
    "        \n",
    "        thetha = np.insert(self.coef_, 0, self.intercept_)\n",
    "        \n",
    "        X_train = np.insert(X_train, 0, 1, axis = 1)\n",
    "        \n",
    "        for i in range(self.epochs):\n",
    "            thetha_der = np.dot(X_train.T, X_train).dot(thetha) - np.dot(X_train.T, y_train) + self.alpha*thetha\n",
    "            thetha = thetha - self.learning_rate*thetha_der\n",
    "            \n",
    "        self.coef_ = thetha[1:]\n",
    "        self.intercept_ = thetha[0]\n",
    "        \n",
    "        \n",
    "    def predict(self, X_test):\n",
    "        return np.dot(X_test, self.coef_) + self.intercept_"
   ]
  },
  {
   "cell_type": "code",
   "execution_count": 17,
   "metadata": {},
   "outputs": [],
   "source": [
    "reg = RigdeGD(epochs = 500, alpha = 0.001, learning_rate = 0.005)\n",
    "reg.fit(X_train, y_train)\n",
    "y_pred = reg.predict(X_test)"
   ]
  },
  {
   "cell_type": "code",
   "execution_count": 18,
   "metadata": {},
   "outputs": [
    {
     "name": "stdout",
     "output_type": "stream",
     "text": [
      "0.47379622696725343\n",
      "150.86972442733898\n",
      "[  46.65040212 -221.37723801  452.11770407  325.54645024  -29.09573382\n",
      "  -96.47613436 -190.90029664  146.3286965   400.80754967   95.08979987]\n"
     ]
    }
   ],
   "source": [
    "print(r2_score(y_test, y_pred))\n",
    "print(reg.intercept_)\n",
    "print(reg.coef_)"
   ]
  },
  {
   "cell_type": "code",
   "execution_count": null,
   "metadata": {},
   "outputs": [],
   "source": []
  }
 ],
 "metadata": {
  "kernelspec": {
   "display_name": "Python 3",
   "language": "python",
   "name": "python3"
  },
  "language_info": {
   "codemirror_mode": {
    "name": "ipython",
    "version": 3
   },
   "file_extension": ".py",
   "mimetype": "text/x-python",
   "name": "python",
   "nbconvert_exporter": "python",
   "pygments_lexer": "ipython3",
   "version": "3.7.4"
  }
 },
 "nbformat": 4,
 "nbformat_minor": 2
}
